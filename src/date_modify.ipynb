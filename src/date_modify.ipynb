{
 "cells": [
  {
   "cell_type": "code",
   "execution_count": 2,
   "metadata": {},
   "outputs": [],
   "source": [
    "import os\n",
    "from langchain_openai import ChatOpenAI\n",
    "from dotenv import load_dotenv\n",
    "\n",
    "load_dotenv(dotenv_path=\"../.env\")\n",
    "OPENAI_MODEL_NAME = os.environ[\"OPENAI_MODEL_NAME\"]\n",
    "OPENAI_BASE_URL = os.environ[\"OPENAI_BASE_URL\"]\n",
    "OPENAI_API_KEY = os.environ[\"OPENAI_API_KEY\"]\n",
    "EMBEDDING_MODEL = os.environ[\"EMBEDDING_MODEL\"]\n",
    "\n",
    "\n",
    "llm = ChatOpenAI(temperature=0, model=OPENAI_MODEL_NAME, api_key=OPENAI_API_KEY, base_url=OPENAI_BASE_URL)"
   ]
  },
  {
   "cell_type": "code",
   "execution_count": 3,
   "metadata": {},
   "outputs": [
    {
     "data": {
      "text/plain": [
       "'去年（2022年）的中秋节是在阳历的9月10日。中秋节是中国的传统节日，通常在农历的八月十五日庆祝，这一天月亮最圆，象征着团圆和丰收。'"
      ]
     },
     "execution_count": 3,
     "metadata": {},
     "output_type": "execute_result"
    }
   ],
   "source": [
    "llm.invoke('去年中秋节是哪天？').content"
   ]
  },
  {
   "cell_type": "code",
   "execution_count": 3,
   "metadata": {},
   "outputs": [],
   "source": [
    "functions = [{\n",
    "        'name': 'get_item_info',\n",
    "        'description': '获取时间范围内某个产品的信息',\n",
    "        'parameters': {\n",
    "            'type': 'object',\n",
    "            'properties': {\n",
    "                'item': {\n",
    "                    'type': 'string',\n",
    "                    'description':\n",
    "                    '产品名称',\n",
    "                },\n",
    "                'start': {\n",
    "                    'type': 'string',\n",
    "                    'description':\n",
    "                    '时间范围的起始时间'\n",
    "                },\n",
    "                'end': {\n",
    "                    'type': 'string',\n",
    "                    'description':\n",
    "                    '时间范围的结束时间'\n",
    "                },\n",
    "            },\n",
    "            'required': ['event', 'start', 'end'],\n",
    "        }\n",
    "    }]"
   ]
  },
  {
   "cell_type": "code",
   "execution_count": 4,
   "metadata": {},
   "outputs": [],
   "source": [
    "get_item_info = llm.bind_tools(functions, tool_choice=\"get_item_info\")"
   ]
  },
  {
   "cell_type": "code",
   "execution_count": 5,
   "metadata": {},
   "outputs": [
    {
     "data": {
      "text/plain": [
       "AIMessage(content='', additional_kwargs={'tool_calls': [{'id': 'chatcmpl-tool-b7305d344f624fdd883851036a0752bf', 'function': {'arguments': '{ \"item\": \"笔记本\", \"start\": \"2023年1月12日\", \"end\": \"2023年2月1日\" }', 'name': 'get_item_info'}, 'type': 'function'}]}, response_metadata={'token_usage': {'completion_tokens': 38, 'prompt_tokens': 36, 'total_tokens': 74}, 'model_name': 'qwen2-7b', 'system_fingerprint': None, 'finish_reason': 'stop', 'logprobs': None}, id='run-3694b26f-198c-4d54-8127-4add446b8af6-0', tool_calls=[{'name': 'get_item_info', 'args': {'item': '笔记本', 'start': '2023年1月12日', 'end': '2023年2月1日'}, 'id': 'chatcmpl-tool-b7305d344f624fdd883851036a0752bf', 'type': 'tool_call'}], usage_metadata={'input_tokens': 36, 'output_tokens': 38, 'total_tokens': 74})"
      ]
     },
     "execution_count": 5,
     "metadata": {},
     "output_type": "execute_result"
    }
   ],
   "source": [
    "get_item_info.invoke('2023年1月12至2月1日笔记本的销量')"
   ]
  },
  {
   "cell_type": "code",
   "execution_count": 6,
   "metadata": {},
   "outputs": [
    {
     "data": {
      "text/plain": [
       "AIMessage(content='', additional_kwargs={'tool_calls': [{'id': 'chatcmpl-tool-1d2746e9ab2c4ef58e0f19d1f2d77d64', 'function': {'arguments': '{ \"item\": \"笔记本\", \"start\": \"去年九月份\", \"end\": \"去年九月份\" }', 'name': 'get_item_info'}, 'type': 'function'}]}, response_metadata={'token_usage': {'completion_tokens': 25, 'prompt_tokens': 25, 'total_tokens': 50}, 'model_name': 'qwen2-7b', 'system_fingerprint': None, 'finish_reason': 'stop', 'logprobs': None}, id='run-e1300b6d-746f-4f3b-a1ce-888a7119e316-0', tool_calls=[{'name': 'get_item_info', 'args': {'item': '笔记本', 'start': '去年九月份', 'end': '去年九月份'}, 'id': 'chatcmpl-tool-1d2746e9ab2c4ef58e0f19d1f2d77d64', 'type': 'tool_call'}], usage_metadata={'input_tokens': 25, 'output_tokens': 25, 'total_tokens': 50})"
      ]
     },
     "execution_count": 6,
     "metadata": {},
     "output_type": "execute_result"
    }
   ],
   "source": [
    "get_item_info.invoke('去年九月份笔记本的销量')"
   ]
  },
  {
   "cell_type": "code",
   "execution_count": 7,
   "metadata": {},
   "outputs": [
    {
     "name": "stdout",
     "output_type": "stream",
     "text": [
      "# jionlp - 微信公众号: JioNLP  Github: `https://github.com/dongrixinyu/JioNLP`.\n",
      "# jiojio - `http://www.jionlp.com/jionlp_online/cws_pos` is available for online trial.\n",
      "# jiojio - Successfully load C funcs for CWS and POS acceleration.\n",
      "['2023-11-11 00:00:00', '2023-11-11 23:59:59']\n"
     ]
    }
   ],
   "source": [
    "# %pip install jionlp\n",
    "\n",
    "import jionlp\n",
    "query = '去年双11的营收多少'\n",
    "def date_extract(query):\n",
    "    date = jionlp.parse_time(query)\n",
    "    return date['time']\n",
    "date = date_extract(query)\n",
    "print(date)"
   ]
  },
  {
   "cell_type": "code",
   "execution_count": 8,
   "metadata": {},
   "outputs": [],
   "source": [
    "date_modify_prompt = '''\n",
    "你是一个日期转换助手，请按照如下格式对用户输入进行转化。\n",
    "\n",
    "用户输入：\n",
    "2023年端午节的订单销量是多少\n",
    "\n",
    "日期：\n",
    "['2023-06-22 00:00:00', '2023-06-22 23:59:59']\n",
    "\n",
    "输出：\n",
    "2023-06-22 00:00:00到2023-06-22 23:59:59的订单销量是多少\n",
    "\n",
    "用户输入：\n",
    "2022年中秋节的营收多少\n",
    "\n",
    "日期：\n",
    "['2022-09-10 00:00:00', '2022-09-10 23:59:59']\n",
    "\n",
    "输出：\n",
    "2022-09-10 00:00:00到2022-09-10 23:59:59营收多少\n",
    "\n",
    "用户输入：\n",
    "{}\n",
    "\n",
    "日期：\n",
    "{}\n",
    "\n",
    "输出：\n",
    "'''"
   ]
  },
  {
   "cell_type": "code",
   "execution_count": 9,
   "metadata": {},
   "outputs": [
    {
     "name": "stdout",
     "output_type": "stream",
     "text": [
      "2023-01-01 00:00:00到2023-03-31 23:59:59的销量怎么样\n"
     ]
    }
   ],
   "source": [
    "query = '去年第一季度的销量怎么样'\n",
    "modify_query = llm.invoke(date_modify_prompt.format(query, date_extract(query))).content\n",
    "print(modify_query)"
   ]
  }
 ],
 "metadata": {
  "kernelspec": {
   "display_name": "base",
   "language": "python",
   "name": "python3"
  },
  "language_info": {
   "codemirror_mode": {
    "name": "ipython",
    "version": 3
   },
   "file_extension": ".py",
   "mimetype": "text/x-python",
   "name": "python",
   "nbconvert_exporter": "python",
   "pygments_lexer": "ipython3",
   "version": "3.11.9"
  }
 },
 "nbformat": 4,
 "nbformat_minor": 2
}
