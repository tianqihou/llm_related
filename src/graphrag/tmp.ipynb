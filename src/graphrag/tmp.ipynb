{
 "cells": [
  {
   "cell_type": "code",
   "execution_count": 98,
   "metadata": {},
   "outputs": [],
   "source": [
    "import pandas as pd\n",
    "entities = pd.read_parquet('/home/user/wyf/ragtest/output/20240720-163004/artifacts/create_final_entities.parquet')\n",
    "relationships = pd.read_parquet('/home/user/wyf/ragtest/output/20240720-163004/artifacts/create_final_relationships.parquet')\n",
    "text_units = pd.read_parquet('/home/user/wyf/ragtest/output/20240720-163004/artifacts/create_final_text_units.parquet')\n",
    "communities = pd.read_parquet('/home/user/wyf/ragtest/output/20240720-163004/artifacts/create_final_communities.parquet')\n",
    "community_reports = pd.read_parquet('/home/user/wyf/ragtest/output/20240720-163004/artifacts/create_final_community_reports.parquet')\n"
   ]
  },
  {
   "cell_type": "code",
   "execution_count": 99,
   "metadata": {},
   "outputs": [
    {
     "data": {
      "text/html": [
       "<div>\n",
       "<style scoped>\n",
       "    .dataframe tbody tr th:only-of-type {\n",
       "        vertical-align: middle;\n",
       "    }\n",
       "\n",
       "    .dataframe tbody tr th {\n",
       "        vertical-align: top;\n",
       "    }\n",
       "\n",
       "    .dataframe thead th {\n",
       "        text-align: right;\n",
       "    }\n",
       "</style>\n",
       "<table border=\"1\" class=\"dataframe\">\n",
       "  <thead>\n",
       "    <tr style=\"text-align: right;\">\n",
       "      <th></th>\n",
       "      <th>id</th>\n",
       "      <th>text</th>\n",
       "      <th>n_tokens</th>\n",
       "      <th>document_ids</th>\n",
       "      <th>entity_ids</th>\n",
       "      <th>relationship_ids</th>\n",
       "    </tr>\n",
       "  </thead>\n",
       "  <tbody>\n",
       "    <tr>\n",
       "      <th>0</th>\n",
       "      <td>c52c421aa7a48aee62a321116214b184</td>\n",
       "      <td>语言模型的发展犹如一部精彩的进化史诗。最初，我们有了统计语言模型（Statistical Language Models, SLMs）。想象一下，你正在玩一个猜词游戏。统计语言模型就像一个经验...</td>\n",
       "      <td>300</td>\n",
       "      <td>[2bf72d6e5d24da35bd5eb17af2d3c01e]</td>\n",
       "      <td>[b45241d70f0e43fca764df95b2b81f77, 4119fd06010c494caa07f439b333f4c5, d3835bf3dda84ead99deadbeac5...</td>\n",
       "      <td>[d03eb34a0612420680555ab9f10d03d5, b066746cdff7440c8a3591f0c098201d, 1e2eded8ef7b4b458c33fbc2d36...</td>\n",
       "    </tr>\n",
       "    <tr>\n",
       "      <th>1</th>\n",
       "      <td>be8418a75634c979b697cbded9b8c7c0</td>\n",
       "      <td>�以捕捉长距离的语义关系。\\n\\n随着时间的推移，神经语言模型（Neural Language Models, NLMs）应运而生。如果说统计模型是一个熟练的棋手，那么神经模型就像是一个天才棋...</td>\n",
       "      <td>300</td>\n",
       "      <td>[2bf72d6e5d24da35bd5eb17af2d3c01e]</td>\n",
       "      <td>[4119fd06010c494caa07f439b333f4c5, f7e11b0e297a44a896dc67928368f600, 1fd3fa8bb5a2408790042ab9573...</td>\n",
       "      <td>[c59e3e931b0f4cf888c2eb70857ee753, 305b80bb4df5488b8a34129daeeae0c7, d1e9c550a0e74c48ae81c319f26...</td>\n",
       "    </tr>\n",
       "  </tbody>\n",
       "</table>\n",
       "</div>"
      ],
      "text/plain": [
       "                                 id  \\\n",
       "0  c52c421aa7a48aee62a321116214b184   \n",
       "1  be8418a75634c979b697cbded9b8c7c0   \n",
       "\n",
       "                                                                                                  text  \\\n",
       "0  语言模型的发展犹如一部精彩的进化史诗。最初，我们有了统计语言模型（Statistical Language Models, SLMs）。想象一下，你正在玩一个猜词游戏。统计语言模型就像一个经验...   \n",
       "1  �以捕捉长距离的语义关系。\\n\\n随着时间的推移，神经语言模型（Neural Language Models, NLMs）应运而生。如果说统计模型是一个熟练的棋手，那么神经模型就像是一个天才棋...   \n",
       "\n",
       "   n_tokens                        document_ids  \\\n",
       "0       300  [2bf72d6e5d24da35bd5eb17af2d3c01e]   \n",
       "1       300  [2bf72d6e5d24da35bd5eb17af2d3c01e]   \n",
       "\n",
       "                                                                                            entity_ids  \\\n",
       "0  [b45241d70f0e43fca764df95b2b81f77, 4119fd06010c494caa07f439b333f4c5, d3835bf3dda84ead99deadbeac5...   \n",
       "1  [4119fd06010c494caa07f439b333f4c5, f7e11b0e297a44a896dc67928368f600, 1fd3fa8bb5a2408790042ab9573...   \n",
       "\n",
       "                                                                                      relationship_ids  \n",
       "0  [d03eb34a0612420680555ab9f10d03d5, b066746cdff7440c8a3591f0c098201d, 1e2eded8ef7b4b458c33fbc2d36...  \n",
       "1  [c59e3e931b0f4cf888c2eb70857ee753, 305b80bb4df5488b8a34129daeeae0c7, d1e9c550a0e74c48ae81c319f26...  "
      ]
     },
     "execution_count": 99,
     "metadata": {},
     "output_type": "execute_result"
    }
   ],
   "source": [
    "text_units.head(2)"
   ]
  },
  {
   "cell_type": "code",
   "execution_count": 100,
   "metadata": {},
   "outputs": [
    {
     "data": {
      "text/html": [
       "<div>\n",
       "<style scoped>\n",
       "    .dataframe tbody tr th:only-of-type {\n",
       "        vertical-align: middle;\n",
       "    }\n",
       "\n",
       "    .dataframe tbody tr th {\n",
       "        vertical-align: top;\n",
       "    }\n",
       "\n",
       "    .dataframe thead th {\n",
       "        text-align: right;\n",
       "    }\n",
       "</style>\n",
       "<table border=\"1\" class=\"dataframe\">\n",
       "  <thead>\n",
       "    <tr style=\"text-align: right;\">\n",
       "      <th></th>\n",
       "      <th>id</th>\n",
       "      <th>name</th>\n",
       "      <th>type</th>\n",
       "      <th>description</th>\n",
       "      <th>human_readable_id</th>\n",
       "      <th>graph_embedding</th>\n",
       "      <th>text_unit_ids</th>\n",
       "      <th>description_embedding</th>\n",
       "    </tr>\n",
       "  </thead>\n",
       "  <tbody>\n",
       "    <tr>\n",
       "      <th>0</th>\n",
       "      <td>b45241d70f0e43fca764df95b2b81f77</td>\n",
       "      <td>\"STATISTICAL LANGUAGE MODELS\"</td>\n",
       "      <td>\"ORGANIZATION\"</td>\n",
       "      <td>\"Statistical Language Models are a type of language model that predicts the next word based on t...</td>\n",
       "      <td>0</td>\n",
       "      <td>None</td>\n",
       "      <td>[c52c421aa7a48aee62a321116214b184]</td>\n",
       "      <td>[-0.010901130735874176, 0.027049733325839043, 0.017633352428674698, 0.03430955857038498, -0.0077...</td>\n",
       "    </tr>\n",
       "    <tr>\n",
       "      <th>1</th>\n",
       "      <td>4119fd06010c494caa07f439b333f4c5</td>\n",
       "      <td>\"NEURAL LANGUAGE MODELS\"</td>\n",
       "      <td>\"ORGANIZATION\"</td>\n",
       "      <td>\"Neural Language Models are sophisticated language models that leverage neural networks to forec...</td>\n",
       "      <td>1</td>\n",
       "      <td>None</td>\n",
       "      <td>[be8418a75634c979b697cbded9b8c7c0, c52c421aa7a48aee62a321116214b184]</td>\n",
       "      <td>[0.019856905564665794, -0.005119838286191225, 0.031627219170331955, 0.033818960189819336, -0.012...</td>\n",
       "    </tr>\n",
       "  </tbody>\n",
       "</table>\n",
       "</div>"
      ],
      "text/plain": [
       "                                 id                           name  \\\n",
       "0  b45241d70f0e43fca764df95b2b81f77  \"STATISTICAL LANGUAGE MODELS\"   \n",
       "1  4119fd06010c494caa07f439b333f4c5       \"NEURAL LANGUAGE MODELS\"   \n",
       "\n",
       "             type  \\\n",
       "0  \"ORGANIZATION\"   \n",
       "1  \"ORGANIZATION\"   \n",
       "\n",
       "                                                                                           description  \\\n",
       "0  \"Statistical Language Models are a type of language model that predicts the next word based on t...   \n",
       "1  \"Neural Language Models are sophisticated language models that leverage neural networks to forec...   \n",
       "\n",
       "   human_readable_id graph_embedding  \\\n",
       "0                  0            None   \n",
       "1                  1            None   \n",
       "\n",
       "                                                          text_unit_ids  \\\n",
       "0                                    [c52c421aa7a48aee62a321116214b184]   \n",
       "1  [be8418a75634c979b697cbded9b8c7c0, c52c421aa7a48aee62a321116214b184]   \n",
       "\n",
       "                                                                                 description_embedding  \n",
       "0  [-0.010901130735874176, 0.027049733325839043, 0.017633352428674698, 0.03430955857038498, -0.0077...  \n",
       "1  [0.019856905564665794, -0.005119838286191225, 0.031627219170331955, 0.033818960189819336, -0.012...  "
      ]
     },
     "execution_count": 100,
     "metadata": {},
     "output_type": "execute_result"
    }
   ],
   "source": [
    "entities.head(2)"
   ]
  },
  {
   "cell_type": "code",
   "execution_count": 101,
   "metadata": {},
   "outputs": [
    {
     "data": {
      "text/html": [
       "<div>\n",
       "<style scoped>\n",
       "    .dataframe tbody tr th:only-of-type {\n",
       "        vertical-align: middle;\n",
       "    }\n",
       "\n",
       "    .dataframe tbody tr th {\n",
       "        vertical-align: top;\n",
       "    }\n",
       "\n",
       "    .dataframe thead th {\n",
       "        text-align: right;\n",
       "    }\n",
       "</style>\n",
       "<table border=\"1\" class=\"dataframe\">\n",
       "  <thead>\n",
       "    <tr style=\"text-align: right;\">\n",
       "      <th></th>\n",
       "      <th>source</th>\n",
       "      <th>target</th>\n",
       "      <th>weight</th>\n",
       "      <th>description</th>\n",
       "      <th>text_unit_ids</th>\n",
       "      <th>id</th>\n",
       "      <th>human_readable_id</th>\n",
       "      <th>source_degree</th>\n",
       "      <th>target_degree</th>\n",
       "      <th>rank</th>\n",
       "    </tr>\n",
       "  </thead>\n",
       "  <tbody>\n",
       "    <tr>\n",
       "      <th>0</th>\n",
       "      <td>\"STATISTICAL LANGUAGE MODELS\"</td>\n",
       "      <td>\"PREDICTING NEXT WORD\"</td>\n",
       "      <td>1.0</td>\n",
       "      <td>\"Statistical Language Models predict the next word based on the context provided by previous wor...</td>\n",
       "      <td>[c52c421aa7a48aee62a321116214b184]</td>\n",
       "      <td>d03eb34a0612420680555ab9f10d03d5</td>\n",
       "      <td>0</td>\n",
       "      <td>1</td>\n",
       "      <td>3</td>\n",
       "      <td>4</td>\n",
       "    </tr>\n",
       "    <tr>\n",
       "      <th>1</th>\n",
       "      <td>\"NEURAL LANGUAGE MODELS\"</td>\n",
       "      <td>\"PREDICTING NEXT WORD\"</td>\n",
       "      <td>1.0</td>\n",
       "      <td>\"Neural Language Models also predict the next word, but they use complex neural networks to achi...</td>\n",
       "      <td>[c52c421aa7a48aee62a321116214b184]</td>\n",
       "      <td>b066746cdff7440c8a3591f0c098201d</td>\n",
       "      <td>1</td>\n",
       "      <td>4</td>\n",
       "      <td>3</td>\n",
       "      <td>7</td>\n",
       "    </tr>\n",
       "  </tbody>\n",
       "</table>\n",
       "</div>"
      ],
      "text/plain": [
       "                          source                  target  weight  \\\n",
       "0  \"STATISTICAL LANGUAGE MODELS\"  \"PREDICTING NEXT WORD\"     1.0   \n",
       "1       \"NEURAL LANGUAGE MODELS\"  \"PREDICTING NEXT WORD\"     1.0   \n",
       "\n",
       "                                                                                           description  \\\n",
       "0  \"Statistical Language Models predict the next word based on the context provided by previous wor...   \n",
       "1  \"Neural Language Models also predict the next word, but they use complex neural networks to achi...   \n",
       "\n",
       "                        text_unit_ids                                id  \\\n",
       "0  [c52c421aa7a48aee62a321116214b184]  d03eb34a0612420680555ab9f10d03d5   \n",
       "1  [c52c421aa7a48aee62a321116214b184]  b066746cdff7440c8a3591f0c098201d   \n",
       "\n",
       "  human_readable_id  source_degree  target_degree  rank  \n",
       "0                 0              1              3     4  \n",
       "1                 1              4              3     7  "
      ]
     },
     "execution_count": 101,
     "metadata": {},
     "output_type": "execute_result"
    }
   ],
   "source": [
    "relationships.head(2)"
   ]
  },
  {
   "cell_type": "code",
   "execution_count": 102,
   "metadata": {},
   "outputs": [
    {
     "data": {
      "text/html": [
       "<div>\n",
       "<style scoped>\n",
       "    .dataframe tbody tr th:only-of-type {\n",
       "        vertical-align: middle;\n",
       "    }\n",
       "\n",
       "    .dataframe tbody tr th {\n",
       "        vertical-align: top;\n",
       "    }\n",
       "\n",
       "    .dataframe thead th {\n",
       "        text-align: right;\n",
       "    }\n",
       "</style>\n",
       "<table border=\"1\" class=\"dataframe\">\n",
       "  <thead>\n",
       "    <tr style=\"text-align: right;\">\n",
       "      <th></th>\n",
       "      <th>id</th>\n",
       "      <th>title</th>\n",
       "      <th>level</th>\n",
       "      <th>raw_community</th>\n",
       "      <th>relationship_ids</th>\n",
       "      <th>text_unit_ids</th>\n",
       "    </tr>\n",
       "  </thead>\n",
       "  <tbody>\n",
       "    <tr>\n",
       "      <th>0</th>\n",
       "      <td>6</td>\n",
       "      <td>Community 6</td>\n",
       "      <td>0</td>\n",
       "      <td>6</td>\n",
       "      <td>[0980c4f558654466b4d691d0cb7ce16d, f1e47cf5daa441649c3474c3339bb704, 0964dcfbff934c92af896115567...</td>\n",
       "      <td>[bdbd63e26c9e4078e6068d970506ed0c, 4d0d4bd0f83eac7a24fe2fa2da866ce3,bdbd63e26c9e4078e6068d970506...</td>\n",
       "    </tr>\n",
       "    <tr>\n",
       "      <th>1</th>\n",
       "      <td>0</td>\n",
       "      <td>Community 0</td>\n",
       "      <td>0</td>\n",
       "      <td>0</td>\n",
       "      <td>[1cfd220ff4d2493ca4b92d725d171d32, 97738fe0830d405ba53598b5cb1e5e38, 354cea4f6e164a48ad12122c28a...</td>\n",
       "      <td>[8d77bdbdca12e18deae98943a3d95368,9425f059828aee4881fd28f50ebe5334,cb55d26af5dad03b63fdaf7a5643d...</td>\n",
       "    </tr>\n",
       "  </tbody>\n",
       "</table>\n",
       "</div>"
      ],
      "text/plain": [
       "  id        title  level raw_community  \\\n",
       "0  6  Community 6      0             6   \n",
       "1  0  Community 0      0             0   \n",
       "\n",
       "                                                                                      relationship_ids  \\\n",
       "0  [0980c4f558654466b4d691d0cb7ce16d, f1e47cf5daa441649c3474c3339bb704, 0964dcfbff934c92af896115567...   \n",
       "1  [1cfd220ff4d2493ca4b92d725d171d32, 97738fe0830d405ba53598b5cb1e5e38, 354cea4f6e164a48ad12122c28a...   \n",
       "\n",
       "                                                                                         text_unit_ids  \n",
       "0  [bdbd63e26c9e4078e6068d970506ed0c, 4d0d4bd0f83eac7a24fe2fa2da866ce3,bdbd63e26c9e4078e6068d970506...  \n",
       "1  [8d77bdbdca12e18deae98943a3d95368,9425f059828aee4881fd28f50ebe5334,cb55d26af5dad03b63fdaf7a5643d...  "
      ]
     },
     "execution_count": 102,
     "metadata": {},
     "output_type": "execute_result"
    }
   ],
   "source": [
    "communities.head(2)"
   ]
  },
  {
   "cell_type": "code",
   "execution_count": 103,
   "metadata": {},
   "outputs": [
    {
     "data": {
      "text/html": [
       "<div>\n",
       "<style scoped>\n",
       "    .dataframe tbody tr th:only-of-type {\n",
       "        vertical-align: middle;\n",
       "    }\n",
       "\n",
       "    .dataframe tbody tr th {\n",
       "        vertical-align: top;\n",
       "    }\n",
       "\n",
       "    .dataframe thead th {\n",
       "        text-align: right;\n",
       "    }\n",
       "</style>\n",
       "<table border=\"1\" class=\"dataframe\">\n",
       "  <thead>\n",
       "    <tr style=\"text-align: right;\">\n",
       "      <th></th>\n",
       "      <th>community</th>\n",
       "      <th>full_content</th>\n",
       "      <th>level</th>\n",
       "      <th>rank</th>\n",
       "      <th>title</th>\n",
       "      <th>rank_explanation</th>\n",
       "      <th>summary</th>\n",
       "      <th>findings</th>\n",
       "      <th>full_content_json</th>\n",
       "      <th>id</th>\n",
       "    </tr>\n",
       "  </thead>\n",
       "  <tbody>\n",
       "    <tr>\n",
       "      <th>0</th>\n",
       "      <td>121</td>\n",
       "      <td># Architecture and Fashion Integration\\n\\nThe community revolves around the integration of AI in...</td>\n",
       "      <td>2</td>\n",
       "      <td>3.0</td>\n",
       "      <td>Architecture and Fashion Integration</td>\n",
       "      <td>The impact severity rating is low as the integration of AI in Architecture and Fashion is a tech...</td>\n",
       "      <td>The community revolves around the integration of AI in both Architecture and Fashion, highlighti...</td>\n",
       "      <td>[{'explanation': 'AI integrates architectural principles into its design process, such as propor...</td>\n",
       "      <td>{\\n    \"title\": \"Architecture and Fashion Integration\",\\n    \"summary\": \"The community revolves ...</td>\n",
       "      <td>beedbee5-4a40-4497-a521-7b90cd9740be</td>\n",
       "    </tr>\n",
       "    <tr>\n",
       "      <th>1</th>\n",
       "      <td>122</td>\n",
       "      <td># AI and Industry Integration Community\\n\\nThe community focuses on the integration of AI in var...</td>\n",
       "      <td>2</td>\n",
       "      <td>6.0</td>\n",
       "      <td>AI and Industry Integration Community</td>\n",
       "      <td>The community's impact severity rating is moderate due to the potential for significant advancem...</td>\n",
       "      <td>The community focuses on the integration of AI in various industries, with key entities includin...</td>\n",
       "      <td>[{'explanation': 'AI is central to industry applications, enhancing operational and decision-mak...</td>\n",
       "      <td>{\\n    \"title\": \"AI and Industry Integration Community\",\\n    \"summary\": \"The community focuses ...</td>\n",
       "      <td>8f95a90b-85b9-4f68-9917-6e11fbcefb11</td>\n",
       "    </tr>\n",
       "  </tbody>\n",
       "</table>\n",
       "</div>"
      ],
      "text/plain": [
       "  community  \\\n",
       "0       121   \n",
       "1       122   \n",
       "\n",
       "                                                                                          full_content  \\\n",
       "0  # Architecture and Fashion Integration\\n\\nThe community revolves around the integration of AI in...   \n",
       "1  # AI and Industry Integration Community\\n\\nThe community focuses on the integration of AI in var...   \n",
       "\n",
       "   level  rank                                  title  \\\n",
       "0      2   3.0   Architecture and Fashion Integration   \n",
       "1      2   6.0  AI and Industry Integration Community   \n",
       "\n",
       "                                                                                      rank_explanation  \\\n",
       "0  The impact severity rating is low as the integration of AI in Architecture and Fashion is a tech...   \n",
       "1  The community's impact severity rating is moderate due to the potential for significant advancem...   \n",
       "\n",
       "                                                                                               summary  \\\n",
       "0  The community revolves around the integration of AI in both Architecture and Fashion, highlighti...   \n",
       "1  The community focuses on the integration of AI in various industries, with key entities includin...   \n",
       "\n",
       "                                                                                              findings  \\\n",
       "0  [{'explanation': 'AI integrates architectural principles into its design process, such as propor...   \n",
       "1  [{'explanation': 'AI is central to industry applications, enhancing operational and decision-mak...   \n",
       "\n",
       "                                                                                     full_content_json  \\\n",
       "0  {\\n    \"title\": \"Architecture and Fashion Integration\",\\n    \"summary\": \"The community revolves ...   \n",
       "1  {\\n    \"title\": \"AI and Industry Integration Community\",\\n    \"summary\": \"The community focuses ...   \n",
       "\n",
       "                                     id  \n",
       "0  beedbee5-4a40-4497-a521-7b90cd9740be  \n",
       "1  8f95a90b-85b9-4f68-9917-6e11fbcefb11  "
      ]
     },
     "execution_count": 103,
     "metadata": {},
     "output_type": "execute_result"
    }
   ],
   "source": [
    "community_reports.head(2)"
   ]
  },
  {
   "cell_type": "code",
   "execution_count": 105,
   "metadata": {},
   "outputs": [],
   "source": [
    "import pandas as pd\n",
    "from neo4j import GraphDatabase\n",
    "import time"
   ]
  },
  {
   "cell_type": "code",
   "execution_count": 106,
   "metadata": {},
   "outputs": [],
   "source": [
    "NEO4J_URI = \"neo4j://localhost\"\n",
    "NEO4J_USERNAME = \"neo4j\"\n",
    "NEO4J_PASSWORD = \"neo4j123\" \n",
    "NEO4J_DATABASE = \"neo4j\"\n",
    "driver = GraphDatabase.driver(NEO4J_URI, auth=(NEO4J_USERNAME, NEO4J_PASSWORD))\n"
   ]
  },
  {
   "cell_type": "code",
   "execution_count": 107,
   "metadata": {},
   "outputs": [],
   "source": [
    "def import_data(cypher, df, batch_size=1000):\n",
    "\n",
    "    for i in range(0,len(df), batch_size):\n",
    "        batch = df.iloc[i: min(i+batch_size, len(df))]\n",
    "        result = driver.execute_query(\"UNWIND $rows AS value \" + cypher, \n",
    "                                      rows=batch.to_dict('records'),\n",
    "                                      database_=NEO4J_DATABASE)\n",
    "        print(result.summary.counters)\n",
    "    return "
   ]
  },
  {
   "cell_type": "code",
   "execution_count": 108,
   "metadata": {},
   "outputs": [
    {
     "name": "stdout",
     "output_type": "stream",
     "text": [
      "{'_contains_updates': True, 'labels_added': 224, 'nodes_created': 224, 'properties_set': 672}\n"
     ]
    }
   ],
   "source": [
    "#导入text units\n",
    "cypher_text_units = \"\"\"\n",
    "MERGE (c:__Chunk__ {id:value.id})\n",
    "SET c += value {.text, .n_tokens}\n",
    "WITH c, value\n",
    "UNWIND value.document_ids AS document\n",
    "MATCH (d:__Document__ {id:document})\n",
    "MERGE (c)-[:PART_OF]->(d)\n",
    "\"\"\"\n",
    "\n",
    "import_data(cypher_text_units, text_units)"
   ]
  },
  {
   "cell_type": "code",
   "execution_count": 109,
   "metadata": {},
   "outputs": [
    {
     "name": "stdout",
     "output_type": "stream",
     "text": [
      "{'_contains_updates': True, 'labels_added': 1000, 'relationships_created': 2187, 'nodes_created': 1000, 'properties_set': 4000}\n",
      "{'_contains_updates': True, 'labels_added': 95, 'relationships_created': 98, 'nodes_created': 95, 'properties_set': 380}\n"
     ]
    }
   ],
   "source": [
    "#加载entities\n",
    "cypher_entities= \"\"\"\n",
    "MERGE (e:__Entity__ {id:value.id})\n",
    "SET e += value {.human_readable_id, .description, name:replace(value.name,'\"','')}\n",
    "WITH e, value\n",
    "CALL db.create.setNodeVectorProperty(e, \"description_embedding\", value.description_embedding)\n",
    "CALL apoc.create.addLabels(e, case when coalesce(value.type,\"\") = \"\" then [] else [apoc.text.upperCamelCase(replace(value.type,'\"',''))] end) yield node\n",
    "UNWIND value.text_unit_ids AS text_unit\n",
    "MATCH (c:__Chunk__ {id:text_unit})\n",
    "MERGE (c)-[:HAS_ENTITY]->(e)\n",
    "\"\"\"\n",
    "\n",
    "import_data(cypher_entities, entities)"
   ]
  },
  {
   "cell_type": "code",
   "execution_count": 110,
   "metadata": {},
   "outputs": [
    {
     "name": "stdout",
     "output_type": "stream",
     "text": [
      "{'_contains_updates': True, 'relationships_created': 1000, 'properties_set': 6000}\n",
      "{'_contains_updates': True, 'relationships_created': 100, 'properties_set': 600}\n"
     ]
    }
   ],
   "source": [
    "#导入relationships\n",
    "cypher_relationships = \"\"\"\n",
    "    MATCH (source:__Entity__ {name:replace(value.source,'\"','')})\n",
    "    MATCH (target:__Entity__ {name:replace(value.target,'\"','')})\n",
    "    // not necessary to merge on id as there is only one relationship per pair\n",
    "    MERGE (source)-[rel:RELATED {id: value.id}]->(target)\n",
    "    SET rel += value {.rank, .weight, .human_readable_id, .description, .text_unit_ids}\n",
    "    RETURN count(*) as createdRels\n",
    "\"\"\"\n",
    "\n",
    "import_data(cypher_relationships, relationships)"
   ]
  },
  {
   "cell_type": "code",
   "execution_count": 111,
   "metadata": {},
   "outputs": [
    {
     "name": "stdout",
     "output_type": "stream",
     "text": [
      "{'_contains_updates': True, 'labels_added': 170, 'relationships_created': 2801, 'nodes_created': 170, 'properties_set': 510}\n"
     ]
    }
   ],
   "source": [
    "#导入communities\n",
    "cypher_communities = \"\"\"\n",
    "MERGE (c:__Community__ {community:value.id})\n",
    "SET c += value {.level, .title}\n",
    "/*\n",
    "UNWIND value.text_unit_ids as text_unit_id\n",
    "MATCH (t:__Chunk__ {id:text_unit_id})\n",
    "MERGE (c)-[:HAS_CHUNK]->(t)\n",
    "WITH distinct c, value\n",
    "*/\n",
    "WITH *\n",
    "UNWIND value.relationship_ids as rel_id\n",
    "MATCH (start:__Entity__)-[:RELATED {id:rel_id}]->(end:__Entity__)\n",
    "MERGE (start)-[:IN_COMMUNITY]->(c)\n",
    "MERGE (end)-[:IN_COMMUNITY]->(c)\n",
    "RETURn count(distinct c) as createdCommunities\n",
    "\"\"\"\n",
    "\n",
    "import_data(cypher_communities, communities)"
   ]
  },
  {
   "cell_type": "code",
   "execution_count": 112,
   "metadata": {},
   "outputs": [
    {
     "name": "stdout",
     "output_type": "stream",
     "text": [
      "{'_contains_updates': True, 'labels_added': 763, 'relationships_created': 763, 'nodes_created': 763, 'properties_set': 3225}\n"
     ]
    }
   ],
   "source": [
    "#导入community_reports\n",
    "cypher_community_reports = \"\"\"MATCH (c:__Community__ {community: value.community})\n",
    "SET c += value {.level, .title, .rank, .rank_explanation, .full_content, .summary}\n",
    "WITH c, value\n",
    "UNWIND range(0, size(value.findings)-1) AS finding_idx\n",
    "WITH c, value, finding_idx, value.findings[finding_idx] as finding\n",
    "MERGE (c)-[:HAS_FINDING]->(f:Finding {id: finding_idx})\n",
    "SET f += finding\"\"\"\n",
    "import_data(cypher_community_reports, community_reports)"
   ]
  }
 ],
 "metadata": {
  "kernelspec": {
   "display_name": "wyf",
   "language": "python",
   "name": "python3"
  },
  "language_info": {
   "codemirror_mode": {
    "name": "ipython",
    "version": 3
   },
   "file_extension": ".py",
   "mimetype": "text/x-python",
   "name": "python",
   "nbconvert_exporter": "python",
   "pygments_lexer": "ipython3",
   "version": "3.11.0"
  }
 },
 "nbformat": 4,
 "nbformat_minor": 2
}
